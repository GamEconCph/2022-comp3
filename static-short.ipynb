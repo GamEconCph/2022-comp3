{
 "cells": [
  {
   "cell_type": "markdown",
   "metadata": {},
   "source": [
    "# Static Bertrand Game\n",
    "\n",
    "This notebook runs two tournaments: one for both of the following demand functions: \n",
    "\n",
    "1. *perfect substitutes* (pure Bertrand), and\n",
    "2.  *imperfect substitutes* (differentiated Bertrand).  \n",
    "\n",
    "Your goal is to write a player function, `player.py` and put it in a subfolder, `submission`. \n",
    "\n",
    "To test your player function and experiment, you can write multiple functions, called `player1.py`, `player2.py`,..., and put them all in `/players/`. When you run the tournament (in this notebook), it will automatically load them all and run an all-play-all tournament and declare the winner. \n",
    "\n",
    "Note: you should write your player function so that it performs well under both types of demand function. You can easily check which you are facing by investigating the magnitude of the change in profit when you lower price by a tiny amount, e.g. `1e-8`. \n",
    "\n",
    "**Short version:** This notebook is the short version, and there is an accompanying notebook, which is longer and has more details."
   ]
  },
  {
   "cell_type": "code",
   "execution_count": 1,
   "metadata": {},
   "outputs": [],
   "source": [
    "import numpy as np \n",
    "import matplotlib.pyplot as plt \n",
    "import pandas as pd \n",
    "\n",
    "%load_ext autoreload\n",
    "%autoreload 2 \n",
    "from game_tournament.game import StaticBertrandGame, Tournament"
   ]
  },
  {
   "cell_type": "code",
   "execution_count": 2,
   "metadata": {},
   "outputs": [],
   "source": [
    "from scipy.optimize import minimize_scalar "
   ]
  },
  {
   "cell_type": "code",
   "execution_count": 3,
   "metadata": {},
   "outputs": [],
   "source": [
    "# later, we will give the path directly to a function\n",
    "player_path = './players/'"
   ]
  },
  {
   "cell_type": "markdown",
   "metadata": {},
   "source": [
    "# General setup, common across specifications \n",
    "\n",
    "* **Marginal cost:** $c = 0.5$ \n",
    "* **Action space:** $p \\in [c; 6]$"
   ]
  },
  {
   "cell_type": "code",
   "execution_count": 4,
   "metadata": {},
   "outputs": [],
   "source": [
    "c = 0.5\n",
    "pmin = c\n",
    "pmax = 6."
   ]
  },
  {
   "cell_type": "markdown",
   "metadata": {},
   "source": [
    "# Part 1: Imperfect substitutes (differentiated Bertrand)\n",
    "$$ D_i(p_i, p_j) = \\frac{\\exp(\\beta_0 - \\beta_1 p_i)}{1 + \\exp(\\beta_0-\\beta_1p_i) + \\exp(\\beta_0-\\beta_1 p_j)} $$"
   ]
  },
  {
   "cell_type": "code",
   "execution_count": 5,
   "metadata": {},
   "outputs": [],
   "source": [
    "def demand(p1, p2): \n",
    "    '''\n",
    "    Args\n",
    "        p1,p2: prices \n",
    "    Returns: \n",
    "        demand to firm 1\n",
    "    '''\n",
    "    b0 = 5.\n",
    "    b1 = 2.\n",
    "    u1 = np.exp(b0-b1*p1)\n",
    "    u2 = np.exp(b0-b1*p2)\n",
    "    u0 = 1.0 \n",
    "    \n",
    "    denom = u0 + u1 + u2\n",
    "    \n",
    "    # market shares \n",
    "    s1 = u1/denom \n",
    "    s2 = u2/denom\n",
    "    \n",
    "    return s1,s2\n",
    "\n",
    "def profit1(p1, p2):\n",
    "    # c is read in as a global \n",
    "    s1,s2 = demand(p1,p2)\n",
    "    return s1*(p1-c)\n",
    "\n",
    "def profit2(p2, p1): # note the order of inputs! \n",
    "    s1,s2 = demand(p1,p2)\n",
    "    return s2*(p2-c)"
   ]
  },
  {
   "cell_type": "markdown",
   "metadata": {},
   "source": [
    "# Running a Tournament\n",
    "\n",
    "This will run a full tournament between all the player functions found in the folder `player_path`. "
   ]
  },
  {
   "cell_type": "code",
   "execution_count": 6,
   "metadata": {},
   "outputs": [
    {
     "name": "stderr",
     "output_type": "stream",
     "text": [
      "3it [00:01,  2.70it/s]"
     ]
    },
    {
     "name": "stdout",
     "output_type": "stream",
     "text": [
      "Tournament winner was: BR to midpoint (against 2 opponents)\n"
     ]
    },
    {
     "name": "stderr",
     "output_type": "stream",
     "text": [
      "\n"
     ]
    },
    {
     "data": {
      "text/html": [
       "<div>\n",
       "<style scoped>\n",
       "    .dataframe tbody tr th:only-of-type {\n",
       "        vertical-align: middle;\n",
       "    }\n",
       "\n",
       "    .dataframe tbody tr th {\n",
       "        vertical-align: top;\n",
       "    }\n",
       "\n",
       "    .dataframe thead th {\n",
       "        text-align: right;\n",
       "    }\n",
       "</style>\n",
       "<table border=\"1\" class=\"dataframe\">\n",
       "  <thead>\n",
       "    <tr style=\"text-align: right;\">\n",
       "      <th></th>\n",
       "      <th>Total</th>\n",
       "    </tr>\n",
       "    <tr>\n",
       "      <th>Player</th>\n",
       "      <th></th>\n",
       "    </tr>\n",
       "  </thead>\n",
       "  <tbody>\n",
       "    <tr>\n",
       "      <th>BR to midpoint</th>\n",
       "      <td>0.731441</td>\n",
       "    </tr>\n",
       "    <tr>\n",
       "      <th>First-order</th>\n",
       "      <td>0.723072</td>\n",
       "    </tr>\n",
       "    <tr>\n",
       "      <th>0th order</th>\n",
       "      <td>0.230327</td>\n",
       "    </tr>\n",
       "  </tbody>\n",
       "</table>\n",
       "</div>"
      ],
      "text/plain": [
       "                   Total\n",
       "Player                  \n",
       "BR to midpoint  0.731441\n",
       "First-order     0.723072\n",
       "0th order       0.230327"
      ]
     },
     "execution_count": 6,
     "metadata": {},
     "output_type": "execute_result"
    }
   ],
   "source": [
    "T = 100\n",
    "game_data = {'profit_function1':profit1, 'profit_function2':profit2, 'price_range': (pmin,pmax)\n",
    "}\n",
    "t = Tournament(player_path, StaticBertrandGame, game_data=game_data, T=T, tournament_name='Total', )\n",
    "t.run() # run the tournament and score the game "
   ]
  },
  {
   "cell_type": "code",
   "execution_count": 7,
   "metadata": {},
   "outputs": [
    {
     "data": {
      "text/html": [
       "<div>\n",
       "<style scoped>\n",
       "    .dataframe tbody tr th:only-of-type {\n",
       "        vertical-align: middle;\n",
       "    }\n",
       "\n",
       "    .dataframe tbody tr th {\n",
       "        vertical-align: top;\n",
       "    }\n",
       "\n",
       "    .dataframe thead th {\n",
       "        text-align: right;\n",
       "    }\n",
       "</style>\n",
       "<table border=\"1\" class=\"dataframe\">\n",
       "  <thead>\n",
       "    <tr style=\"text-align: right;\">\n",
       "      <th>Opponent</th>\n",
       "      <th>0th order</th>\n",
       "      <th>BR to midpoint</th>\n",
       "      <th>First-order</th>\n",
       "    </tr>\n",
       "    <tr>\n",
       "      <th>Player</th>\n",
       "      <th></th>\n",
       "      <th></th>\n",
       "      <th></th>\n",
       "    </tr>\n",
       "  </thead>\n",
       "  <tbody>\n",
       "    <tr>\n",
       "      <th>0th order</th>\n",
       "      <td>NaN</td>\n",
       "      <td>0.228489</td>\n",
       "      <td>0.232166</td>\n",
       "    </tr>\n",
       "    <tr>\n",
       "      <th>BR to midpoint</th>\n",
       "      <td>0.831749</td>\n",
       "      <td>NaN</td>\n",
       "      <td>0.631132</td>\n",
       "    </tr>\n",
       "    <tr>\n",
       "      <th>First-order</th>\n",
       "      <td>0.831790</td>\n",
       "      <td>0.614353</td>\n",
       "      <td>NaN</td>\n",
       "    </tr>\n",
       "  </tbody>\n",
       "</table>\n",
       "</div>"
      ],
      "text/plain": [
       "Opponent        0th order  BR to midpoint  First-order\n",
       "Player                                                \n",
       "0th order             NaN        0.228489     0.232166\n",
       "BR to midpoint   0.831749             NaN     0.631132\n",
       "First-order      0.831790        0.614353          NaN"
      ]
     },
     "execution_count": 7,
     "metadata": {},
     "output_type": "execute_result"
    }
   ],
   "source": [
    "matchup_results = t.get_matchup_results()\n",
    "matchup_results"
   ]
  },
  {
   "cell_type": "markdown",
   "metadata": {},
   "source": [
    "# Part 2: Near-perfect Substitutes\n",
    "$$ D_i(p_i, p_j) = \\frac{\\exp(\\beta_0 - \\beta_1 p_i + \\beta_2 R(p_i,p_j))}{1 + \\exp(\\beta_0-\\beta_1p_i + \\beta_2 R(p_i,p_j)) + \\exp(\\beta_0-\\beta_1 p_j + \\beta_2 R(p_j,p_i)) } $$\n",
    "\n",
    "where the Recommendation-effect, $R$, is an attraction to the cheapest product: \n",
    "\n",
    "$$ \n",
    "R(p_i,p_j) = \n",
    "\\begin{cases}\n",
    "1 & \\text{if } p_i < p_j \\\\\n",
    "\\frac{1}{2} & \\text{if } p_i = p_j \\\\\n",
    "0 & \\text{if } p_i > p_j.\n",
    "\\end{cases}\n",
    "$$\n",
    "\n",
    "Note that $R$ is a discontinuous function, which results in $D(p_i, p_j)$ being discontinuous. "
   ]
  },
  {
   "cell_type": "code",
   "execution_count": 8,
   "metadata": {},
   "outputs": [],
   "source": [
    "def demand(p1, p2): \n",
    "    '''\n",
    "    Args\n",
    "        p1,p2: prices \n",
    "    Returns: \n",
    "        demand to firm 1\n",
    "    '''\n",
    "    b0 = 5.\n",
    "    b1 = 2.\n",
    "    b2 = 2.\n",
    "\n",
    "    # price recommendations: bonus for being the cheapest firm (shared in case of ties)\n",
    "    R1 = 1.*(p1<p2) + 0.5*(p1==p2)\n",
    "    R2 = 1.*(p2<p1) + 0.5*(p1==p2)\n",
    "\n",
    "    # utility for each product \n",
    "    u1 = np.exp(b0-b1*p1+b2*R1)\n",
    "    u2 = np.exp(b0-b1*p2+b2*R2)\n",
    "    u0 = 1.0 \n",
    "    \n",
    "    # denominator in the logit choice probability \n",
    "    denom = u0 + u1 + u2\n",
    "    \n",
    "    # market shares \n",
    "    s1 = u1/denom \n",
    "    s2 = u2/denom\n",
    "    \n",
    "    return s1,s2\n",
    "\n",
    "def profit1(p1, p2):\n",
    "    # c is read in as a global \n",
    "    s1,s2 = demand(p1,p2)\n",
    "    return s1*(p1-c)\n",
    "\n",
    "def profit2(p2, p1): # note the order of inputs! \n",
    "    s1,s2 = demand(p1,p2)\n",
    "    return s2*(p2-c)"
   ]
  },
  {
   "cell_type": "markdown",
   "metadata": {},
   "source": [
    "## Tournament"
   ]
  },
  {
   "cell_type": "code",
   "execution_count": 9,
   "metadata": {},
   "outputs": [
    {
     "name": "stderr",
     "output_type": "stream",
     "text": [
      "3it [00:07,  2.49s/it]"
     ]
    },
    {
     "name": "stdout",
     "output_type": "stream",
     "text": [
      "Tournament winner was: BR to midpoint (against 2 opponents)\n"
     ]
    },
    {
     "name": "stderr",
     "output_type": "stream",
     "text": [
      "\n"
     ]
    },
    {
     "data": {
      "text/html": [
       "<div>\n",
       "<style scoped>\n",
       "    .dataframe tbody tr th:only-of-type {\n",
       "        vertical-align: middle;\n",
       "    }\n",
       "\n",
       "    .dataframe tbody tr th {\n",
       "        vertical-align: top;\n",
       "    }\n",
       "\n",
       "    .dataframe thead th {\n",
       "        text-align: right;\n",
       "    }\n",
       "</style>\n",
       "<table border=\"1\" class=\"dataframe\">\n",
       "  <thead>\n",
       "    <tr style=\"text-align: right;\">\n",
       "      <th></th>\n",
       "      <th>Total</th>\n",
       "    </tr>\n",
       "    <tr>\n",
       "      <th>Player</th>\n",
       "      <th></th>\n",
       "    </tr>\n",
       "  </thead>\n",
       "  <tbody>\n",
       "    <tr>\n",
       "      <th>BR to midpoint</th>\n",
       "      <td>1.332734</td>\n",
       "    </tr>\n",
       "    <tr>\n",
       "      <th>First-order</th>\n",
       "      <td>0.720479</td>\n",
       "    </tr>\n",
       "    <tr>\n",
       "      <th>0th order</th>\n",
       "      <td>0.406679</td>\n",
       "    </tr>\n",
       "  </tbody>\n",
       "</table>\n",
       "</div>"
      ],
      "text/plain": [
       "                   Total\n",
       "Player                  \n",
       "BR to midpoint  1.332734\n",
       "First-order     0.720479\n",
       "0th order       0.406679"
      ]
     },
     "execution_count": 9,
     "metadata": {},
     "output_type": "execute_result"
    }
   ],
   "source": [
    "T = 100 # just to smooth out randomness\n",
    "game_data = {'profit_function1':profit1, 'profit_function2':profit2, 'price_range': (pmin,pmax)\n",
    "}\n",
    "t = Tournament(player_path, StaticBertrandGame, game_data=game_data, T=T, tournament_name='Total', )\n",
    "t.run() # run the tournament and score the game "
   ]
  },
  {
   "cell_type": "code",
   "execution_count": 10,
   "metadata": {},
   "outputs": [
    {
     "data": {
      "text/html": [
       "<div>\n",
       "<style scoped>\n",
       "    .dataframe tbody tr th:only-of-type {\n",
       "        vertical-align: middle;\n",
       "    }\n",
       "\n",
       "    .dataframe tbody tr th {\n",
       "        vertical-align: top;\n",
       "    }\n",
       "\n",
       "    .dataframe thead th {\n",
       "        text-align: right;\n",
       "    }\n",
       "</style>\n",
       "<table border=\"1\" class=\"dataframe\">\n",
       "  <thead>\n",
       "    <tr style=\"text-align: right;\">\n",
       "      <th>Opponent</th>\n",
       "      <th>0th order</th>\n",
       "      <th>BR to midpoint</th>\n",
       "      <th>First-order</th>\n",
       "    </tr>\n",
       "    <tr>\n",
       "      <th>Player</th>\n",
       "      <th></th>\n",
       "      <th></th>\n",
       "      <th></th>\n",
       "    </tr>\n",
       "  </thead>\n",
       "  <tbody>\n",
       "    <tr>\n",
       "      <th>0th order</th>\n",
       "      <td>NaN</td>\n",
       "      <td>0.445126</td>\n",
       "      <td>0.368232</td>\n",
       "    </tr>\n",
       "    <tr>\n",
       "      <th>BR to midpoint</th>\n",
       "      <td>1.023986</td>\n",
       "      <td>NaN</td>\n",
       "      <td>1.641482</td>\n",
       "    </tr>\n",
       "    <tr>\n",
       "      <th>First-order</th>\n",
       "      <td>1.225518</td>\n",
       "      <td>0.215441</td>\n",
       "      <td>NaN</td>\n",
       "    </tr>\n",
       "  </tbody>\n",
       "</table>\n",
       "</div>"
      ],
      "text/plain": [
       "Opponent        0th order  BR to midpoint  First-order\n",
       "Player                                                \n",
       "0th order             NaN        0.445126     0.368232\n",
       "BR to midpoint   1.023986             NaN     1.641482\n",
       "First-order      1.225518        0.215441          NaN"
      ]
     },
     "execution_count": 10,
     "metadata": {},
     "output_type": "execute_result"
    }
   ],
   "source": [
    "t.get_matchup_results()"
   ]
  }
 ],
 "metadata": {
  "interpreter": {
   "hash": "2f28796849cc7d0dfb7168fb91405d73a8cccecd280e63fee6edce8a728c9dcc"
  },
  "kernelspec": {
   "display_name": "Python 3.9.7 ('base')",
   "language": "python",
   "name": "python3"
  },
  "language_info": {
   "codemirror_mode": {
    "name": "ipython",
    "version": 3
   },
   "file_extension": ".py",
   "mimetype": "text/x-python",
   "name": "python",
   "nbconvert_exporter": "python",
   "pygments_lexer": "ipython3",
   "version": "3.9.7"
  }
 },
 "nbformat": 4,
 "nbformat_minor": 4
}
